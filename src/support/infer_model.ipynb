{
 "cells": [
  {
   "cell_type": "code",
   "execution_count": 1,
   "source": [
    "import numpy as np\r\n",
    "import cv2\r\n",
    "import tensorflow as tf\r\n",
    "from tensorflow.keras import layers\r\n",
    "from tensorflow.keras.models import Model\r\n",
    "from tensorflow.keras.initializers import RandomNormal, HeUniform\r\n",
    "from tensorflow.keras.models import Model"
   ],
   "outputs": [],
   "metadata": {}
  },
  {
   "cell_type": "code",
   "execution_count": 2,
   "source": [
    "def get_v3_model():\r\n",
    "    height, width, channels = 128, 128, 3\r\n",
    "    n_labels = 8 # the number of classes\r\n",
    "    class_dict = {0 : \"agriculture\", 1 : \"clear\", 2 : \"cloudy\", 3 : \"cultivation\", 4 : \"habitation\", 5 : \"primary\", 6 : \"road\", 7 : \"water\"}\r\n",
    "    feat_model = tf.keras.applications.MobileNetV3Small(weights='imagenet', include_top=False, input_shape=(height, width, channels))\r\n",
    "    \r\n",
    "\r\n",
    "    x = feat_model.output\r\n",
    "    x = layers.GlobalAveragePooling2D()(x)\r\n",
    "    x = layers.Dropout(0.2)(x)\r\n",
    "    x = layers.Dense(n_labels, activation='sigmoid', name='output')(x)\r\n",
    "    model = Model(inputs=feat_model.input, outputs=x, name='multi_class_multi_label_classifier')\r\n",
    "\r\n",
    "    for layer in model.layers:\r\n",
    "        layer.trainable = False\r\n",
    "        \r\n",
    "    return model, (height, width, channels), n_labels, class_dict\r\n"
   ],
   "outputs": [],
   "metadata": {}
  },
  {
   "cell_type": "code",
   "execution_count": 3,
   "source": [
    "model, (height, width, channels), n_labels, class_dict = get_v3_model()"
   ],
   "outputs": [
    {
     "output_type": "stream",
     "name": "stdout",
     "text": [
      "WARNING:tensorflow:`input_shape` is undefined or non-square, or `rows` is not 224. Weights for input shape (224, 224) will be loaded as the default.\n"
     ]
    }
   ],
   "metadata": {}
  },
  {
   "cell_type": "code",
   "execution_count": 5,
   "source": [
    "model.load_weights('../../data/models/defo_ks3.h5')"
   ],
   "outputs": [],
   "metadata": {}
  },
  {
   "cell_type": "code",
   "execution_count": null,
   "source": [],
   "outputs": [],
   "metadata": {}
  }
 ],
 "metadata": {
  "orig_nbformat": 4,
  "language_info": {
   "name": "python",
   "version": "3.7.6",
   "mimetype": "text/x-python",
   "codemirror_mode": {
    "name": "ipython",
    "version": 3
   },
   "pygments_lexer": "ipython3",
   "nbconvert_exporter": "python",
   "file_extension": ".py"
  },
  "kernelspec": {
   "name": "python3",
   "display_name": "Python 3.7.6 64-bit ('base': conda)"
  },
  "interpreter": {
   "hash": "aacd9efd2e917f2085b49ad3eecd2bc8a974d0bb8b89bc48afae7fa44e9f517f"
  }
 },
 "nbformat": 4,
 "nbformat_minor": 2
}